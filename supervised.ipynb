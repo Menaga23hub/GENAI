{
  "cells": [
    {
      "cell_type": "markdown",
      "metadata": {
        "id": "view-in-github",
        "colab_type": "text"
      },
      "source": [
        "<a href=\"https://colab.research.google.com/github/Menaga23hub/GENAI/blob/main/supervised.ipynb\" target=\"_parent\"><img src=\"https://colab.research.google.com/assets/colab-badge.svg\" alt=\"Open In Colab\"/></a>"
      ]
    },
    {
      "cell_type": "code",
      "source": [
        "# 1. Import necessary libraries\n",
        "import pandas as pd\n",
        "from sklearn.model_selection import train_test_split\n",
        "from sklearn.linear_model import LogisticRegression\n",
        "from sklearn.metrics import accuracy_score\n",
        "\n",
        "# 2. Define the dataset\n",
        "data = {\n",
        "    \"hours_studied\": [8, 2, 5, 1, 7, 3, 6, 4],\n",
        "    \"attendance\": [90, 40, 75, 30, 85, 55, 80, 60],\n",
        "    \"pass\": [1, 0, 1, 0, 1, 0, 1, 0]\n",
        "}\n",
        "\n",
        "df = pd.DataFrame(data)\n",
        "\n",
        "# 3. Prepare features and labels\n",
        "X = df[[\"hours_studied\", \"attendance\"]]\n",
        "y = df[\"pass\"]\n",
        "\n",
        "# 4. Split into training and testing sets\n",
        "X_train, X_test, y_train, y_test = train_test_split(\n",
        "    X, y, test_size=0.25, random_state=42\n",
        ")\n",
        "\n",
        "# 5. Train a Logistic Regression model\n",
        "model = LogisticRegression()\n",
        "model.fit(X_train, y_train)\n",
        "\n",
        "# 6. Make predictions on test data\n",
        "y_pred = model.predict(X_test)\n",
        "\n",
        "# 7. Evaluate the model\n",
        "print(\"Accuracy on Test Set:\", accuracy_score(y_test, y_pred))\n",
        "\n",
        "# 8. Predict for a new student\n",
        "new_student = [[6, 80]]  # 6 hours studied, 80% attendance\n",
        "prediction = model.predict(new_student)\n",
        "\n",
        "print(\"Prediction for new student:\", \"Pass\" if prediction[0] == 1 else \"Fail\")\n"
      ],
      "metadata": {
        "colab": {
          "base_uri": "https://localhost:8080/"
        },
        "id": "3rNcFQhJYyth",
        "outputId": "fd535fae-6e0a-414e-a404-72b87473c1cc"
      },
      "execution_count": 24,
      "outputs": [
        {
          "output_type": "stream",
          "name": "stdout",
          "text": [
            "Accuracy on Test Set: 1.0\n",
            "Prediction for new student: Pass\n"
          ]
        },
        {
          "output_type": "stream",
          "name": "stderr",
          "text": [
            "/usr/local/lib/python3.11/dist-packages/sklearn/utils/validation.py:2739: UserWarning: X does not have valid feature names, but LogisticRegression was fitted with feature names\n",
            "  warnings.warn(\n"
          ]
        }
      ]
    }
  ],
  "metadata": {
    "colab": {
      "name": "Welcome To Colab",
      "toc_visible": true,
      "provenance": [],
      "include_colab_link": true
    },
    "kernelspec": {
      "display_name": "Python 3",
      "name": "python3"
    }
  },
  "nbformat": 4,
  "nbformat_minor": 0
}